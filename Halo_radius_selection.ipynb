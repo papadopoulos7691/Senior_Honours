{
 "cells": [
  {
   "cell_type": "code",
   "execution_count": 17,
   "metadata": {},
   "outputs": [
    {
     "name": "stdout",
     "output_type": "stream",
     "text": [
      "108679.1719\n",
      "(array([9550], dtype=int64),)\n"
     ]
    }
   ],
   "source": [
    "\"\"\"\n",
    "Python script for use in selecting particles within range of an area of overdensity, and then exporting these via file\n",
    "to a seeparate notebook\n",
    "\n",
    "\"\"\"\n",
    "\n",
    "import numpy as np \n",
    "import math\n",
    "import scipy.spatial as spatial\n",
    "import matplotlib.pyplot as plt\n",
    "\n",
    "#open positions file\n",
    "f=open('mbp_positions_063_M13_matched.txt', \"r\")\n",
    "lines=f.readlines()\n",
    "\n",
    "#create empty lists for relevant data \n",
    "x = []\n",
    "y = []\n",
    "z = []\n",
    "mass = []\n",
    "r_200 = []\n",
    "\n",
    "# append data \n",
    "for k in lines:\n",
    "        mass.append(k.split(  )[11])\n",
    "        r_200.append(k.split(  )[13])\n",
    "        x.append(k.split(  )[6])   \n",
    "        y.append(k.split(  )[7]) \n",
    "        z.append(k.split(  )[8])\n",
    "        \n",
    "f.close()\n",
    "\n",
    "#convert list to numpy array for with floats rather than strings \n",
    "mass_array = np.array(mass).astype(np.float)\n",
    "\n",
    "#sort masses over 10^15 from array \n",
    "mass_15 = mass_array[mass_array > 1E+5]\n",
    "\n",
    "#find maximum mass from sample\n",
    "overdens = np.random.choice(mass_15)\n",
    "print(overdens)\n",
    "\n",
    "#choose radius\n",
    "r=30\n",
    "\n",
    "# find index of selected mass in array \n",
    "result = np.where(mass_array == overdens)\n",
    "print(result)"
   ]
  },
  {
   "cell_type": "code",
   "execution_count": 18,
   "metadata": {},
   "outputs": [],
   "source": [
    "#find origin coords\n",
    "x_overdens = x[9550]\n",
    "y_overdens = y[9550]\n",
    "z_overdens = z[9550]\n"
   ]
  },
  {
   "cell_type": "code",
   "execution_count": 22,
   "metadata": {
    "scrolled": true
   },
   "outputs": [],
   "source": [
    "# read in from particle data file and create empty lists to append to \n",
    "q = open('ParticleData_Point1Percent.txt', \"r\")\n",
    "lines2 = q.readlines()\n",
    "\n",
    "x = []\n",
    "y = []\n",
    "z = []\n",
    "v_x = []\n",
    "v_y = []\n",
    "v_z = []\n",
    "\n",
    "for i in lines2:\n",
    "        x.append(i.split(  )[0])   \n",
    "        y.append(i.split(  )[1]) \n",
    "        z.append(i.split(  )[2]) \n",
    "        v_x.append(i.split(  )[3])   \n",
    "        v_y.append(i.split(  )[4]) \n",
    "        v_z.append(i.split(  )[5])\n",
    "        \n",
    "q.close()\n",
    "\n",
    "# choose radius of search for particles\n",
    "r=30\n",
    "\n",
    "#convert lists to arrays for ease of computation \n",
    "x_array = np.array(x).astype(np.float)\n",
    "y_array = np.array(y).astype(np.float)\n",
    "z_array = np.array(z).astype(np.float)\n",
    "v_x_array = np.array(v_x).astype(np.float)\n",
    "v_y_array = np.array(v_y).astype(np.float)\n",
    "v_z_array = np.array(v_z).astype(np.float)\n",
    "\n",
    "#create empty arrays for particle psoitions and their velocities which meet criteria \n",
    "x_mass = np.array([], dtype=np.float64)\n",
    "y_mass = np.array([], dtype=np.float64)\n",
    "z_mass = np.array([], dtype=np.float64)\n",
    "v_x_mass = np.array([], dtype=np.float64)\n",
    "v_y_mass = np.array([], dtype=np.float64)\n",
    "v_z_mass = np.array([], dtype=np.float64)\n",
    "\n"
   ]
  },
  {
   "cell_type": "code",
   "execution_count": 23,
   "metadata": {},
   "outputs": [],
   "source": [
    "# set criteria for particle locations, must be witin r**2 = (x-x_c)**2 + (y-y_c)**2 + (z-z_c)**2\n",
    "for i in range(len(x)):\n",
    "    if  (((x_array[i] - float(x_overdens))**2 + (y_array[i] - float(y_overdens))**2 + (z_array[i] - float(z_overdens))**2) <= r*r):\n",
    " \n",
    "        x_mass = np.append(x_mass, x_array[i])\n",
    "        y_mass = np.append(y_mass, y_array[i])\n",
    "        z_mass = np.append(z_mass, z_array[i])\n",
    "        v_x_mass = np.append(v_x_mass, v_x_array[i])\n",
    "        v_y_mass = np.append(v_y_mass, v_y_array[i])\n",
    "        v_z_mass = np.append(v_z_mass, v_z_array[i])\n",
    "\n"
   ]
  },
  {
   "cell_type": "code",
   "execution_count": 24,
   "metadata": {
    "scrolled": true
   },
   "outputs": [],
   "source": [
    "#read out positions and velocities to new file\n",
    "outfile = open('radius_test_1.txt', 'w')\n",
    "for i in range(len(x_mass)):\n",
    "    outfile.write(str(x_mass[i]) + \" \" + str(y_mass[i]) + \" \" + str(z_mass[i]) + \" \" + str(v_x_mass[i]) + \" \" + str(v_y_mass[i]) + \" \" + str(v_z_mass[i])  + \"\\n\")\n",
    "    \n",
    "outfile.close()\n"
   ]
  },
  {
   "cell_type": "code",
   "execution_count": null,
   "metadata": {},
   "outputs": [],
   "source": []
  },
  {
   "cell_type": "code",
   "execution_count": null,
   "metadata": {},
   "outputs": [],
   "source": []
  },
  {
   "cell_type": "code",
   "execution_count": null,
   "metadata": {},
   "outputs": [],
   "source": []
  }
 ],
 "metadata": {
  "kernelspec": {
   "display_name": "Python 3",
   "language": "python",
   "name": "python3"
  },
  "language_info": {
   "codemirror_mode": {
    "name": "ipython",
    "version": 3
   },
   "file_extension": ".py",
   "mimetype": "text/x-python",
   "name": "python",
   "nbconvert_exporter": "python",
   "pygments_lexer": "ipython3",
   "version": "3.8.5"
  }
 },
 "nbformat": 4,
 "nbformat_minor": 4
}
